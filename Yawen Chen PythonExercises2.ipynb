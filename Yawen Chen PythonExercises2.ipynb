{
 "cells": [
  {
   "cell_type": "markdown",
   "id": "27eecb4e",
   "metadata": {},
   "source": [
    "<h2>Introduction to Creative Coding: Homework 2</h2>\n",
    "To complete this assignment, download this notebook and edit the code to produce the expected output. Be sure to upload the file to the shared drive before next class."
   ]
  },
  {
   "cell_type": "markdown",
   "id": "cd496064",
   "metadata": {},
   "source": [
    "<h3>Problem 1</h3>\n",
    "Print the first element and last element of the list below using indexing\n",
    "<br/>Expected Output: <code>18 14</code> <--- Note that they are on the same line and have a space in between!"
   ]
  },
  {
   "cell_type": "code",
   "execution_count": 68,
   "id": "9074a327",
   "metadata": {},
   "outputs": [
    {
     "name": "stdout",
     "output_type": "stream",
     "text": [
      "18 14\n"
     ]
    }
   ],
   "source": [
    "my_list = [18, 56, 43, 65, 12, 14]\n",
    "print(my_list[0],my_list[5])"
   ]
  },
  {
   "cell_type": "markdown",
   "id": "8541d0fc",
   "metadata": {},
   "source": [
    "<h3>Problem 2</h3>\n",
    "Print the reverse of my_list. (And don't just rewrite the list!) Hint: reverse the list, then print\n",
    "<br/>Expected Output: <code>[14, 12, 65, 43, 56, 18]"
   ]
  },
  {
   "cell_type": "code",
   "execution_count": 69,
   "id": "be1310c8",
   "metadata": {},
   "outputs": [
    {
     "name": "stdout",
     "output_type": "stream",
     "text": [
      "[14, 12, 65, 43, 56, 18]\n"
     ]
    }
   ],
   "source": [
    "my_list.reverse()\n",
    "print(my_list)"
   ]
  },
  {
   "cell_type": "markdown",
   "id": "e16c3a49",
   "metadata": {},
   "source": [
    "<h3>Problem 3</h3>\n",
    "Print the smallest and largest number in my_list\n",
    "<br/>Expected Output: <code>12 65</code>"
   ]
  },
  {
   "cell_type": "code",
   "execution_count": 70,
   "id": "9d1d6a02",
   "metadata": {},
   "outputs": [
    {
     "name": "stdout",
     "output_type": "stream",
     "text": [
      "12 65\n"
     ]
    }
   ],
   "source": [
    "print(min(my_list), max(my_list))"
   ]
  },
  {
   "cell_type": "markdown",
   "id": "ffeab443",
   "metadata": {},
   "source": [
    "<h3>Problem 4</h3>\n",
    "Print the length of my_list\n",
    "<br/>Expected Output: <code>6</code>"
   ]
  },
  {
   "cell_type": "code",
   "execution_count": 71,
   "id": "2c37bdf5",
   "metadata": {},
   "outputs": [
    {
     "name": "stdout",
     "output_type": "stream",
     "text": [
      "6\n"
     ]
    }
   ],
   "source": [
    "print(len(my_list))"
   ]
  },
  {
   "cell_type": "markdown",
   "id": "3c3cbca4",
   "metadata": {},
   "source": [
    "<h3>Problem 5</h3>\n",
    "Write an expression that evaluates to a sublist of my_list starting with the third element and ending with sixth (exclusive). Use indexing!\n",
    "<br/>Expected Output: <code>[65, 12, 14]</code>"
   ]
  },
  {
   "cell_type": "code",
   "execution_count": 72,
   "id": "913a9b5b",
   "metadata": {},
   "outputs": [
    {
     "name": "stdout",
     "output_type": "stream",
     "text": [
      "[65, 12, 14]\n"
     ]
    }
   ],
   "source": [
    "my_list.reverse()\n",
    "sublist = my_list[3:6]\n",
    "print(sublist)"
   ]
  },
  {
   "cell_type": "markdown",
   "id": "4614832c",
   "metadata": {},
   "source": [
    "<h3>Problem 6</h3>\n",
    "Write a list comprehension to create a new list comprised of all the numbers in number_list that are divisble by 3.\n",
    "<br/>Expected Output: <code>[12, 435, 234, 231]</code>"
   ]
  },
  {
   "cell_type": "code",
   "execution_count": 73,
   "id": "4a0f43f3-2544-48b2-88db-6ba8c6f8b309",
   "metadata": {},
   "outputs": [
    {
     "name": "stdout",
     "output_type": "stream",
     "text": [
      "[12, 435, 234, 231]\n"
     ]
    }
   ],
   "source": [
    "number_list = [12, 435, 234, 231, 65, 34, 4] \n",
    "num_div_3 = [num for num in number_list if num % 3 ==0] \n",
    "print(num_div_3)"
   ]
  },
  {
   "cell_type": "markdown",
   "id": "778a3373",
   "metadata": {},
   "source": [
    "<h3>Problem 7</h3>\n",
    "Using a list comprehension, write an expression that evaluates to a list comprised of only elements starting with the letter 'j' from programming_langs\n",
    "<br/>Expected Output: <code>[\"java\", \"javascript\"]</code>"
   ]
  },
  {
   "cell_type": "code",
   "execution_count": 3,
   "id": "89c944dd",
   "metadata": {},
   "outputs": [
    {
     "name": "stdout",
     "output_type": "stream",
     "text": [
      "['java', 'javascript']\n"
     ]
    }
   ],
   "source": [
    "programming_langs = [\"java\", \"python\", \"c++\", \"javascript\", \"ruby\"]\n",
    "langs_with_startingj = [lang for lang in programming_langs if lang.startswith(\"j\")]\n",
    "print(langs_with_startingj)\n",
    "#lang.startswith(\"j\") also can write in lang(0) == \"j\"\n",
    "#programming_langs[0][0] == \"j\""
   ]
  },
  {
   "cell_type": "markdown",
   "id": "044d56d4",
   "metadata": {},
   "source": [
    "<h3>Problem 8</h3>\n",
    "Write a list comprension that evaluates to a list of the first ten multiples of 3. Hint: use the range function!\n",
    "<br/>Expected Output: <code>[0, 3, 6, 9, 12, 15, 18, 21, 24, 27]</code>"
   ]
  },
  {
   "cell_type": "code",
   "execution_count": 5,
   "id": "b39d1adb",
   "metadata": {},
   "outputs": [
    {
     "name": "stdout",
     "output_type": "stream",
     "text": [
      "[0, 3, 6, 9, 12, 15, 18, 21, 24, 27]\n"
     ]
    }
   ],
   "source": [
    "multiples_of_3 = [idx for idx in range(0,30,3)]\n",
    "print(multiples_of_3)"
   ]
  },
  {
   "cell_type": "markdown",
   "id": "c0495e32",
   "metadata": {},
   "source": [
    "<h3>Problem 9</h3>\n",
    "Update the code inside the for loop to print the square of each value x\n",
    "<br/>Expected Output:\n",
    "<br/><code>0\n",
    "1\n",
    "4\n",
    "9\n",
    "16\n",
    "25\n",
    "36\n",
    "49\n",
    "64\n",
    "81\n",
    "</code>"
   ]
  },
  {
   "cell_type": "code",
   "execution_count": 1,
   "id": "fcb6cb6d",
   "metadata": {},
   "outputs": [
    {
     "name": "stdout",
     "output_type": "stream",
     "text": [
      "0\n",
      "1\n",
      "4\n",
      "9\n",
      "16\n",
      "25\n",
      "36\n",
      "49\n",
      "64\n",
      "81\n"
     ]
    }
   ],
   "source": [
    "for x in range(10): \n",
    "    print(x*x)"
   ]
  },
  {
   "cell_type": "markdown",
   "id": "2a8cd83d",
   "metadata": {},
   "source": [
    "<h3>Problem 10</h3>\n",
    "Using the earlier list, programming_langs, write a for loop where you print out the length of each string\n",
    "<br/>Expected Output: \n",
    "<br/><code>4\n",
    "6\n",
    "3\n",
    "10\n",
    "4\n",
    "</code>"
   ]
  },
  {
   "cell_type": "code",
   "execution_count": 84,
   "id": "634573d8",
   "metadata": {},
   "outputs": [
    {
     "name": "stdout",
     "output_type": "stream",
     "text": [
      "4\n",
      "6\n",
      "3\n",
      "10\n",
      "4\n"
     ]
    }
   ],
   "source": [
    "for lang in programming_langs:\n",
    "    print(len(lang))"
   ]
  }
 ],
 "metadata": {
  "kernelspec": {
   "display_name": "Python 3 (ipykernel)",
   "language": "python",
   "name": "python3"
  },
  "language_info": {
   "codemirror_mode": {
    "name": "ipython",
    "version": 3
   },
   "file_extension": ".py",
   "mimetype": "text/x-python",
   "name": "python",
   "nbconvert_exporter": "python",
   "pygments_lexer": "ipython3",
   "version": "3.12.7"
  }
 },
 "nbformat": 4,
 "nbformat_minor": 5
}
