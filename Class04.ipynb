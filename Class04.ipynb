{
 "cells": [
  {
   "cell_type": "code",
   "execution_count": 7,
   "id": "41fbaf76-1137-4a87-846e-fac7a7c86879",
   "metadata": {},
   "outputs": [],
   "source": [
    "#default python library - no need for pip install\n",
    "import csv"
   ]
  },
  {
   "cell_type": "code",
   "execution_count": 8,
   "id": "85f5cccc-7964-4484-8c2d-9101b72f4b83",
   "metadata": {},
   "outputs": [
    {
     "name": "stdout",
     "output_type": "stream",
     "text": [
      "['Timestamp', 'What is your favorite animal?', 'How many years have you lived in London?', 'How do you commute to work?', 'How do you spend your time during your commute?']\n",
      "[['17/10/2024 10:41:08', 'Cat', '4', 'Underground', 'Listening to music'], ['17/10/2024 10:41:14', 'Dog', '4', 'Underground', 'Reading a book'], ['17/10/2024 10:41:16', 'Dog', '2', 'Overground', 'Listening to music'], ['17/10/2024 10:41:19', 'Leopard', '5', 'Overground', 'Sleeping'], ['17/10/2024 10:41:28', 'Cat', '21', 'Overground', 'Listening to music'], ['17/10/2024 10:41:29', 'Cat', '2', 'Underground', 'Listening to music'], ['17/10/2024 10:41:29', 'Dog', '20', 'Underground', 'Playing Backgammon!'], ['17/10/2024 10:41:31', 'Cat', '8', 'Underground', 'Reading a book'], ['17/10/2024 10:41:32', 'Dog', '2', 'Underground', 'Reading a book'], ['17/10/2024 10:41:35', 'Dog', '4', 'Underground', 'Observing People'], ['17/10/2024 10:41:38', 'manta ray', '3', 'Bike', 'Listening to a podcast'], ['17/10/2024 10:41:43', 'Bird', '4', 'Overground', 'Listening to music'], ['17/10/2024 10:41:47', 'Cat', '7', 'Underground', 'audiobooks'], ['17/10/2024 10:41:49', 'Dog', '2', 'Underground', 'Watching videos'], ['17/10/2024 10:41:52', 'Cat', '6', 'Underground', 'Social Media'], ['17/10/2024 10:42:06', 'Jaguar', '21', 'Overground', 'Daydreaming'], ['17/10/2024 10:42:07', 'fish?', '13', 'Bike', 'Listening to music'], ['17/10/2024 10:42:14', 'Dog', '10', 'Bike', \"Focusing on the road because I'm biking!\"]]\n"
     ]
    }
   ],
   "source": [
    "# file is a variable name that represents my opened file\n",
    "with open('Data/ClassData.csv', newline='') as file:\n",
    "    # we need a way to read the file - my reader is a variable that can read my file\n",
    "    my_reader = csv.reader(file)\n",
    "    # pull out the headers - thet get their own variable\n",
    "    headers = next(my_reader)\n",
    "    #data will become a list of lists\n",
    "    my_data = []\n",
    "    for row in my_reader:\n",
    "        my_data.append(row)\n",
    "\n",
    "print(headers)\n",
    "print(my_data)"
   ]
  },
  {
   "cell_type": "code",
   "execution_count": 9,
   "id": "24d0914b-8f41-482d-a59d-5e1cc0eea2ce",
   "metadata": {},
   "outputs": [
    {
     "name": "stdout",
     "output_type": "stream",
     "text": [
      "Cat\n",
      "Dog\n",
      "Dog\n",
      "Leopard\n",
      "Cat\n",
      "Cat\n",
      "Dog\n",
      "Cat\n",
      "Dog\n",
      "Dog\n",
      "manta ray\n",
      "Bird\n",
      "Cat\n",
      "Dog\n",
      "Cat\n",
      "Jaguar\n",
      "fish?\n",
      "Dog\n"
     ]
    }
   ],
   "source": [
    "for datum in my_data:\n",
    "    print(datum[1])"
   ]
  },
  {
   "cell_type": "code",
   "execution_count": 10,
   "id": "b57c6e7f-505c-4306-bc15-2f926c603a9c",
   "metadata": {},
   "outputs": [
    {
     "name": "stdout",
     "output_type": "stream",
     "text": [
      "{'Cat': 6, 'Dog': 7, 'Leopard': 1, 'manta ray': 1, 'Bird': 1, 'Jaguar': 1, 'fish?': 1}\n"
     ]
    }
   ],
   "source": [
    "# start with empty dictionary\n",
    "favorite_animals = {}\n",
    "for datum in my_data:\n",
    "    # pull out the animal answer from the row of answers \n",
    "    animal = datum[1]\n",
    "    # is the animal already in the dictionary\n",
    "    if animal in favorite_animals:\n",
    "        # animal is the key in my dictionary\n",
    "        favorite_animals[animal] += 1\n",
    "        # we have a new animal not in the dictionary\n",
    "    else:\n",
    "        # add the key (is the animal) to my dictionary\n",
    "        favorite_animals[animal] =1\n",
    "\n",
    "print(favorite_animals)"
   ]
  },
  {
   "cell_type": "code",
   "execution_count": 11,
   "id": "8653cae0-21e5-442f-97df-0b8f251f15a5",
   "metadata": {},
   "outputs": [
    {
     "name": "stdout",
     "output_type": "stream",
     "text": [
      "21\n"
     ]
    }
   ],
   "source": [
    "# for datum in my_data:\n",
    "#    print(datum[2])\n",
    "\n",
    "years_living_here = [int (datum[2]) for datum in my_data]\n",
    "print(max(years_living_here))"
   ]
  },
  {
   "cell_type": "code",
   "execution_count": null,
   "id": "8e668155-2841-4ea9-b856-5bca3cd2c30e",
   "metadata": {},
   "outputs": [],
   "source": []
  }
 ],
 "metadata": {
  "kernelspec": {
   "display_name": "Python 3 (ipykernel)",
   "language": "python",
   "name": "python3"
  },
  "language_info": {
   "codemirror_mode": {
    "name": "ipython",
    "version": 3
   },
   "file_extension": ".py",
   "mimetype": "text/x-python",
   "name": "python",
   "nbconvert_exporter": "python",
   "pygments_lexer": "ipython3",
   "version": "3.12.7"
  }
 },
 "nbformat": 4,
 "nbformat_minor": 5
}
