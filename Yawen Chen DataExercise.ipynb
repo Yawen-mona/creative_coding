{
 "cells": [
  {
   "cell_type": "code",
   "execution_count": 1,
   "id": "1442155d-c215-496d-b906-0015f4725356",
   "metadata": {},
   "outputs": [],
   "source": [
    "import pandas as pd\n",
    "import matplotlib.pyplot as plt\n",
    "%matplotlib inline"
   ]
  },
  {
   "cell_type": "code",
   "execution_count": 2,
   "id": "38f2bd74-1fe3-485f-b0d9-c7baf66f62af",
   "metadata": {},
   "outputs": [],
   "source": [
    "path = 'Data/Data Among Us.csv'"
   ]
  },
  {
   "cell_type": "code",
   "execution_count": 3,
   "id": "116e4321-a4e4-4540-816c-5b473b17a624",
   "metadata": {},
   "outputs": [],
   "source": [
    "Us = pd.read_csv(path)"
   ]
  },
  {
   "cell_type": "code",
   "execution_count": 4,
   "id": "44a9464b-7099-460a-939d-cce0446d4f77",
   "metadata": {},
   "outputs": [
    {
     "data": {
      "text/plain": [
       "pandas.core.frame.DataFrame"
      ]
     },
     "execution_count": 4,
     "metadata": {},
     "output_type": "execute_result"
    }
   ],
   "source": [
    "type(Us)"
   ]
  },
  {
   "cell_type": "code",
   "execution_count": 5,
   "id": "0803c97c-9845-4fa4-94a3-bd4a7b08721d",
   "metadata": {},
   "outputs": [
    {
     "data": {
      "text/html": [
       "<div>\n",
       "<style scoped>\n",
       "    .dataframe tbody tr th:only-of-type {\n",
       "        vertical-align: middle;\n",
       "    }\n",
       "\n",
       "    .dataframe tbody tr th {\n",
       "        vertical-align: top;\n",
       "    }\n",
       "\n",
       "    .dataframe thead th {\n",
       "        text-align: right;\n",
       "    }\n",
       "</style>\n",
       "<table border=\"1\" class=\"dataframe\">\n",
       "  <thead>\n",
       "    <tr style=\"text-align: right;\">\n",
       "      <th></th>\n",
       "      <th>Timestamp</th>\n",
       "      <th>nickname</th>\n",
       "      <th>personality</th>\n",
       "      <th>favourite singer</th>\n",
       "      <th>simple pleasures</th>\n",
       "      <th>Relaxation is</th>\n",
       "      <th>food to eat tonight</th>\n",
       "      <th>favourite film type</th>\n",
       "      <th>favourite film</th>\n",
       "      <th>favourite line from film</th>\n",
       "    </tr>\n",
       "  </thead>\n",
       "  <tbody>\n",
       "    <tr>\n",
       "      <th>0</th>\n",
       "      <td>17/10/2024 13:55:42</td>\n",
       "      <td>Olly</td>\n",
       "      <td>Extrovert</td>\n",
       "      <td>Charli XCX</td>\n",
       "      <td>Ironed clothes</td>\n",
       "      <td>Good Food</td>\n",
       "      <td>Ramen</td>\n",
       "      <td>Science Fiction/Fantasy</td>\n",
       "      <td>Parasite</td>\n",
       "      <td>no idea</td>\n",
       "    </tr>\n",
       "    <tr>\n",
       "      <th>1</th>\n",
       "      <td>17/10/2024 13:57:12</td>\n",
       "      <td>bei</td>\n",
       "      <td>Extrovert</td>\n",
       "      <td>Coldplay</td>\n",
       "      <td>Sunshine</td>\n",
       "      <td>Good Weather</td>\n",
       "      <td>Hotpot</td>\n",
       "      <td>Science Fiction/Fantasy</td>\n",
       "      <td>Coco</td>\n",
       "      <td>Touching</td>\n",
       "    </tr>\n",
       "    <tr>\n",
       "      <th>2</th>\n",
       "      <td>17/10/2024 13:58:22</td>\n",
       "      <td>Bami</td>\n",
       "      <td>Extrovert</td>\n",
       "      <td>Kadja Bonet</td>\n",
       "      <td>Scrambled eggs in the morning</td>\n",
       "      <td>Good Food</td>\n",
       "      <td>Hotpot</td>\n",
       "      <td>Action/Adventure</td>\n",
       "      <td>Gladiator</td>\n",
       "      <td>Are you not entertained?!</td>\n",
       "    </tr>\n",
       "    <tr>\n",
       "      <th>3</th>\n",
       "      <td>17/10/2024 13:58:29</td>\n",
       "      <td>NaN</td>\n",
       "      <td>Introvert</td>\n",
       "      <td>Taylor Swift</td>\n",
       "      <td>Sleeping</td>\n",
       "      <td>Good Weather</td>\n",
       "      <td>stir-fried rice</td>\n",
       "      <td>Animated</td>\n",
       "      <td>La La Land</td>\n",
       "      <td>NaN</td>\n",
       "    </tr>\n",
       "    <tr>\n",
       "      <th>4</th>\n",
       "      <td>17/10/2024 13:59:30</td>\n",
       "      <td>cccc</td>\n",
       "      <td>Introvert</td>\n",
       "      <td>Oli Sykes</td>\n",
       "      <td>Cats, Food, Gaming, Skateboarding, Guitar</td>\n",
       "      <td>Good Game</td>\n",
       "      <td>Pizza</td>\n",
       "      <td>Horror</td>\n",
       "      <td>10 Things I Hate About You</td>\n",
       "      <td>idk &lt;/3</td>\n",
       "    </tr>\n",
       "  </tbody>\n",
       "</table>\n",
       "</div>"
      ],
      "text/plain": [
       "             Timestamp nickname personality favourite singer  \\\n",
       "0  17/10/2024 13:55:42     Olly   Extrovert       Charli XCX   \n",
       "1  17/10/2024 13:57:12      bei   Extrovert         Coldplay   \n",
       "2  17/10/2024 13:58:22     Bami   Extrovert      Kadja Bonet   \n",
       "3  17/10/2024 13:58:29      NaN   Introvert     Taylor Swift   \n",
       "4  17/10/2024 13:59:30     cccc   Introvert        Oli Sykes   \n",
       "\n",
       "                            simple pleasures Relaxation is  \\\n",
       "0                             Ironed clothes     Good Food   \n",
       "1                                   Sunshine  Good Weather   \n",
       "2              Scrambled eggs in the morning     Good Food   \n",
       "3                                   Sleeping  Good Weather   \n",
       "4  Cats, Food, Gaming, Skateboarding, Guitar     Good Game   \n",
       "\n",
       "  food to eat tonight      favourite film type              favourite film  \\\n",
       "0               Ramen  Science Fiction/Fantasy                    Parasite   \n",
       "1              Hotpot  Science Fiction/Fantasy                        Coco   \n",
       "2              Hotpot         Action/Adventure                   Gladiator   \n",
       "3     stir-fried rice                 Animated                  La La Land   \n",
       "4               Pizza                   Horror  10 Things I Hate About You   \n",
       "\n",
       "    favourite line from film  \n",
       "0                    no idea  \n",
       "1                   Touching  \n",
       "2  Are you not entertained?!  \n",
       "3                        NaN  \n",
       "4                    idk </3  "
      ]
     },
     "execution_count": 5,
     "metadata": {},
     "output_type": "execute_result"
    }
   ],
   "source": [
    "Us.head()"
   ]
  },
  {
   "cell_type": "code",
   "execution_count": 6,
   "id": "899b2bf1-b814-45e5-a997-6a3fdc99011a",
   "metadata": {},
   "outputs": [
    {
     "data": {
      "text/plain": [
       "Index(['Timestamp', 'nickname', 'personality', 'favourite singer',\n",
       "       'simple pleasures', 'Relaxation is', 'food to eat tonight',\n",
       "       'favourite film type', 'favourite film', 'favourite line from film'],\n",
       "      dtype='object')"
      ]
     },
     "execution_count": 6,
     "metadata": {},
     "output_type": "execute_result"
    }
   ],
   "source": [
    "Us.columns"
   ]
  },
  {
   "cell_type": "code",
   "execution_count": 7,
   "id": "b6cb9566-7a5e-4c85-8806-015f54070a36",
   "metadata": {},
   "outputs": [
    {
     "data": {
      "text/plain": [
       "0            Olly\n",
       "1             bei\n",
       "2            Bami\n",
       "3             NaN\n",
       "4            cccc\n",
       "5            Puqu\n",
       "6           sizzy\n",
       "7           Proud\n",
       "8     Sonic Fawny\n",
       "9           Zaidy\n",
       "10         fergie\n",
       "11           Kiya\n",
       "12         Hommie\n",
       "13            NaN\n",
       "14         pikapi\n",
       "15           Mona\n",
       "16            NaN\n",
       "Name: nickname, dtype: object"
      ]
     },
     "execution_count": 7,
     "metadata": {},
     "output_type": "execute_result"
    }
   ],
   "source": [
    "Us.nickname"
   ]
  },
  {
   "cell_type": "code",
   "execution_count": 10,
   "id": "d6841c9d-1dd1-401f-9c2f-675e42445be7",
   "metadata": {},
   "outputs": [
    {
     "name": "stdout",
     "output_type": "stream",
     "text": [
      "Longest nickname: Sonic Fawny\n"
     ]
    }
   ],
   "source": [
    "# DataFrame\n",
    "nickname_df =  pd.DataFrame(Us.nickname)\n",
    "# Find the longest nickname\n",
    "longest_nickname = nickname_df['nickname'].loc[nickname_df['nickname'].str.len().idxmax()]\n",
    "print(\"Longest nickname:\", longest_nickname)"
   ]
  },
  {
   "cell_type": "code",
   "execution_count": 12,
   "id": "e4399a86-b284-420f-acea-4a8bbc2d63d9",
   "metadata": {},
   "outputs": [
    {
     "name": "stdout",
     "output_type": "stream",
     "text": [
      "Number of NaN values: 3\n"
     ]
    }
   ],
   "source": [
    "# Count the number of NaN values\n",
    "# Total number of entries\n",
    "total_count = len(nickname_df['nickname']) \n",
    "# Count of non-NaN entries\n",
    "non_nan_count = nickname_df['nickname'].count() \n",
    "# Calculate NaN count\n",
    "nan_count = total_count - non_nan_count\n",
    "print(\"Number of NaN values:\", nan_count)"
   ]
  },
  {
   "cell_type": "code",
   "execution_count": 13,
   "id": "41f1f208-5376-4e76-b6e5-946063acd013",
   "metadata": {},
   "outputs": [
    {
     "name": "stdout",
     "output_type": "stream",
     "text": [
      "personality\n",
      "Introvert    10\n",
      "Extrovert     7\n",
      "Name: count, dtype: int64\n"
     ]
    }
   ],
   "source": [
    "# value_counts() is for counting the unique values in a Series and return a Series containing counts of unique values\n",
    "# Used primarily for categorical data\n",
    "# counts() is for counting the\n",
    "personality_df = pd.DataFrame(Us.personality)\n",
    "personality_counts = personality_df['personality'].value_counts()\n",
    "print(personality_counts)"
   ]
  },
  {
   "cell_type": "code",
   "execution_count": 14,
   "id": "5d32517a-4fcf-407a-aefb-a6c40b9f04c1",
   "metadata": {},
   "outputs": [
    {
     "data": {
      "text/plain": [
       "0        Charli XCX\n",
       "1          Coldplay\n",
       "2       Kadja Bonet\n",
       "3      Taylor Swift\n",
       "4         Oli Sykes\n",
       "5        Portishead\n",
       "6               NaN\n",
       "7     Baby No Money\n",
       "8         Bad Bunny\n",
       "9           FINNEAS\n",
       "10           sampha\n",
       "11         Maroon 5\n",
       "12         Coldplay\n",
       "13         Coldplay\n",
       "14         Jay Chou\n",
       "15     Taylor Swift\n",
       "16     Taylor Swift\n",
       "Name: favourite singer, dtype: object"
      ]
     },
     "execution_count": 14,
     "metadata": {},
     "output_type": "execute_result"
    }
   ],
   "source": [
    "# When there is a space in the colume words, use the [] square brackets and quotes\n",
    "Us['favourite singer']"
   ]
  },
  {
   "cell_type": "code",
   "execution_count": 15,
   "id": "7a045e46-ac05-4d2f-80a4-9f9abefeb75c",
   "metadata": {},
   "outputs": [],
   "source": [
    "lovesingers_df = pd.DataFrame(Us['favourite singer'])"
   ]
  },
  {
   "cell_type": "code",
   "execution_count": 26,
   "id": "a9aa4b45-2a16-4735-9233-412ef0099986",
   "metadata": {},
   "outputs": [
    {
     "name": "stdout",
     "output_type": "stream",
     "text": [
      "\n",
      "Favorite singers of Introvert people:\n",
      "0     Taylor Swift\n",
      "1        Oli Sykes\n",
      "2       Portishead\n",
      "3    Baby No Money\n",
      "4          FINNEAS\n",
      "5         Maroon 5\n",
      "6         Coldplay\n",
      "7         Jay Chou\n",
      "Name: favourite singer, dtype: object\n",
      "Favorite singers of Extrovert people:\n",
      "0      Charli XCX\n",
      "1        Coldplay\n",
      "2     Kadja Bonet\n",
      "3       Bad Bunny\n",
      "4          sampha\n",
      "5    Taylor Swift\n",
      "Name: favourite singer, dtype: object\n"
     ]
    }
   ],
   "source": [
    "# Filter for Introverts\n",
    "introverts = lovesingers_df[personality_df['personality'] == 'Introvert']['favourite singer']\n",
    "introvert_singers_unique = introverts.dropna().drop_duplicates().reset_index(drop=True)\n",
    "\n",
    "print(\"\\nFavorite singers of Introvert people:\")\n",
    "print(introvert_singers_unique)\n",
    "\n",
    "# Filter for Extroverts\n",
    "extroverts = lovesingers_df[personality_df['personality'] == 'Extrovert']['favourite singer']\n",
    "extrovert_singers_unique = extroverts.dropna().drop_duplicates().reset_index(drop=True)\n",
    "\n",
    "print(\"Favorite singers of Extrovert people:\")\n",
    "print(extrovert_singers_unique)"
   ]
  },
  {
   "cell_type": "code",
   "execution_count": 27,
   "id": "ec88ae94-e8b4-412a-8d67-4fc61c9f8a6c",
   "metadata": {},
   "outputs": [
    {
     "name": "stdout",
     "output_type": "stream",
     "text": [
      "I LOVE TAYLOR SWIFT !!!(Introvert)\n",
      "I LOVE COLDPLAY !!!(Extrovert)\n"
     ]
    }
   ],
   "source": [
    "# Count occurrences of each singer for all data\n",
    "most_popular_singer = lovesingers_df['favourite singer'].value_counts().idxmax()\n",
    "\n",
    "# Get the most popular singer for Introverts\n",
    "introvert_singers = lovesingers_df[personality_df['personality'] == 'Introvert']\n",
    "introvert_most_popular = introvert_singers['favourite singer'].dropna().value_counts().idxmax()\n",
    "print(f\"I LOVE {introvert_most_popular.upper()} !!!(Introvert)\")\n",
    "\n",
    "# Get the most popular singer for Extroverts\n",
    "extrovert_singers = lovesingers_df[personality_df['personality'] == 'Extrovert']\n",
    "extrovert_most_popular = extrovert_singers['favourite singer'].dropna().value_counts().idxmax()\n",
    "print(f\"I LOVE {extrovert_most_popular.upper()} !!!(Extrovert)\")"
   ]
  },
  {
   "cell_type": "code",
   "execution_count": 28,
   "id": "273c90aa-5663-4734-87db-ca937a4b9987",
   "metadata": {},
   "outputs": [
    {
     "name": "stdout",
     "output_type": "stream",
     "text": [
      " I really need Ironed clothes and Good Food.\n",
      " I really need Sunshine and Good Weather.\n",
      " I really need Scrambled eggs in the morning and Good Food.\n",
      " I really need Sleeping and Good Weather.\n",
      " I really need Cats, Food, Gaming, Skateboarding, Guitar and Good Game.\n",
      " I really need Long walks and A Good Movie.\n",
      " I really need chilling and Good Food.\n",
      " I really need Bake bread and Good Food.\n",
      " I really need TV! and Good Weather.\n",
      " I really need Annoying my sister and Good Food.\n",
      " I really need things made of oak and Good Game.\n",
      " I really need eat chips and Good Food.\n",
      " I really need Read,  Sleep, making UI and Good Weather.\n",
      " I really need art and Good Food.\n",
      " I really need beer and Good Game.\n",
      " I really need Sun and Good Weather.\n",
      " I really need cake and Good Food.\n"
     ]
    }
   ],
   "source": [
    "# Iterating through each row\n",
    "for index, row in Us.iterrows():\n",
    "    print(f\" I really need {row['simple pleasures']} and {row['Relaxation is']}.\")"
   ]
  },
  {
   "cell_type": "code",
   "execution_count": 29,
   "id": "b3c04d7f-bf4f-44f2-861e-d14974a20668",
   "metadata": {},
   "outputs": [],
   "source": [
    "food_df = pd.DataFrame(Us['food to eat tonight'])\n",
    "food_counts = food_df['food to eat tonight'].value_counts()"
   ]
  },
  {
   "cell_type": "code",
   "execution_count": 30,
   "id": "17510fed-b98c-4830-a66d-18f56f9c4352",
   "metadata": {},
   "outputs": [
    {
     "data": {
      "image/png": "[encoded data removed]",
      "text/plain": [
       "<Figure size 1000x600 with 1 Axes>"
      ]
     },
     "metadata": {},
     "output_type": "display_data"
    }
   ],
   "source": [
    "# Create a bar plot\n",
    "plt.figure(figsize=(10, 6)) \n",
    "plt.bar(food_counts.index, food_counts.values,width=0.5,color=['blue', 'orange','yellow','purple', 'green','red','grey'])\n",
    "plt.title(\"Distribution of food by Type\")\n",
    "plt.xlabel(\"food Type\")\n",
    "plt.ylabel(\"Count\")\n",
    "plt.legend(['Hotpot', 'Ramen','KFC','stir-fried rice','Pizza','Fish and chips','african cuisine'])\n",
    "plt.show()"
   ]
  },
  {
   "cell_type": "code",
   "execution_count": 31,
   "id": "4630fd24-c2c8-41c6-8d61-0e3f53dcedd1",
   "metadata": {},
   "outputs": [
    {
     "name": "stdout",
     "output_type": "stream",
     "text": [
      "favourite film type\n",
      "Science Fiction/Fantasy    6\n",
      "Comedy                     4\n",
      "Action/Adventure           3\n",
      "Animated                   2\n",
      "Horror                     2\n",
      "Name: count, dtype: int64\n"
     ]
    }
   ],
   "source": [
    "film_df = pd.DataFrame(Us['favourite film type'])\n",
    "film_counts = film_df['favourite film type'].value_counts()\n",
    "print(film_counts)"
   ]
  },
  {
   "cell_type": "code",
   "execution_count": 36,
   "id": "5fd71bc7-0961-4976-958e-7cfae1d6f5d8",
   "metadata": {},
   "outputs": [
    {
     "name": "stdout",
     "output_type": "stream",
     "text": [
      "Best line from Coco said: \"Touching\".\n",
      "Best line from Gladiator said: \"Are you not entertained?!\".\n",
      "Best line from Howl's Moving Castle said: \" A heart is a heavy burden\".\n",
      "Best line from Minions said: \"BANNAAAANNANANANANNA\".\n",
      "Best line from Spirited Away said: \"HAKUUUUUUUUUUUU!!!!!!!\".\n",
      "Best line from The Dark Knight said: \"That doesn't kill you makes you..... STRANGER\".\n",
      "Best line from LOTR said: \"po-ta-to, boil em mash em stick em in a stew\".\n",
      "Best line from Everything everywhere all at once said: \"You are not unlovable.\".\n",
      "Best line from Druk said: \"need 0.05 alcohol\".\n",
      "Best line from The Dark Knight said: \"Hope is a good thing, maybe the best of things, and no good thing ever dies.\".\n"
     ]
    }
   ],
   "source": [
    "for index, row in Us.iterrows():\n",
    "    line = row['favourite line from film']\n",
    "# To avoid the responses of idk, check word in the line has more than 6 letters\n",
    "    if any(len(word) > 6 for word in str(line).split()):\n",
    "# To avoid the line already has quotes\n",
    "        if not (line.startswith('\"') and line.endswith('\"')):\n",
    "            line = f'\"{line}\"'\n",
    "        print(f\"Best line from {row['favourite film']} said: {line}.\")"
   ]
  }
 ],
 "metadata": {
  "kernelspec": {
   "display_name": "Python 3 (ipykernel)",
   "language": "python",
   "name": "python3"
  },
  "language_info": {
   "codemirror_mode": {
    "name": "ipython",
    "version": 3
   },
   "file_extension": ".py",
   "mimetype": "text/x-python",
   "name": "python",
   "nbconvert_exporter": "python",
   "pygments_lexer": "ipython3",
   "version": "3.12.7"
  }
 },
 "nbformat": 4,
 "nbformat_minor": 5
}
