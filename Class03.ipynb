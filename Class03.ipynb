{
 "cells": [
  {
   "cell_type": "code",
   "execution_count": 1,
   "id": "7e79c1c7-a88a-417f-99f5-9097260c88c6",
   "metadata": {},
   "outputs": [
    {
     "name": "stdout",
     "output_type": "stream",
     "text": [
      "['Hello,', 'this', 'is', 'my', 'little', 'string!']\n"
     ]
    }
   ],
   "source": [
    "my_string = \"Hello, this is my little string!\"\n",
    "words_in_string = my_string.split()\n",
    "print(words_in_string)"
   ]
  },
  {
   "cell_type": "code",
   "execution_count": 3,
   "id": "7c9a6589-defc-4e52-80f1-017d73134de8",
   "metadata": {},
   "outputs": [
    {
     "name": "stdout",
     "output_type": "stream",
     "text": [
      "['square', 'brackets', 'means', 'a', 'list']\n"
     ]
    }
   ],
   "source": [
    "making_a_point = \"square brackets means a list\"\n",
    "my_words = making_a_point.split()\n",
    "print(my_words)"
   ]
  },
  {
   "cell_type": "code",
   "execution_count": 4,
   "id": "4c9f3de5-384a-4c30-a980-ba94c506b99c",
   "metadata": {},
   "outputs": [
    {
     "name": "stdout",
     "output_type": "stream",
     "text": [
      "squareCLAPbracketsCLAPmeansCLAPaCLAPlist\n"
     ]
    }
   ],
   "source": [
    "#join puts the list of words back together\n",
    "big_point = \"CLAP\".join(my_words)\n",
    "print(big_point)"
   ]
  },
  {
   "cell_type": "code",
   "execution_count": 5,
   "id": "3f83b83d-a14b-4e3e-adcf-eec2f866233b",
   "metadata": {},
   "outputs": [],
   "source": [
    "#default library, ie don't need pip install\n",
    "#but we still need eo tell python we're using it!\n",
    "import random"
   ]
  },
  {
   "cell_type": "code",
   "execution_count": 7,
   "id": "ac152bee-1621-45c5-ba94-e1026d159537",
   "metadata": {},
   "outputs": [],
   "source": [
    "list_languages = ['c-sharp', 'processing', 'cinder', 'matlab', 'COBOL']"
   ]
  },
  {
   "cell_type": "code",
   "execution_count": 8,
   "id": "39c43c33-0d1d-4dbc-a9b0-6680822a63b1",
   "metadata": {},
   "outputs": [
    {
     "name": "stdout",
     "output_type": "stream",
     "text": [
      "['c-sharp', 'processing', 'COBOL', 'matlab', 'cinder']\n"
     ]
    }
   ],
   "source": [
    "random.shuffle(list_languages)\n",
    "print(list_languages)"
   ]
  },
  {
   "cell_type": "code",
   "execution_count": 9,
   "id": "92b84550-53ca-4e8b-839f-b63ebc5e399e",
   "metadata": {},
   "outputs": [
    {
     "data": {
      "text/plain": [
       "'matlab'"
      ]
     },
     "execution_count": 9,
     "metadata": {},
     "output_type": "execute_result"
    }
   ],
   "source": [
    "random.choice(list_languages)"
   ]
  },
  {
   "cell_type": "code",
   "execution_count": 10,
   "id": "57cd0730-ea0e-4566-89aa-c972a3ca2072",
   "metadata": {},
   "outputs": [
    {
     "data": {
      "text/plain": [
       "['cinder', 'COBOL', 'c-sharp']"
      ]
     },
     "execution_count": 10,
     "metadata": {},
     "output_type": "execute_result"
    }
   ],
   "source": [
    "random.sample(list_languages, 3)"
   ]
  },
  {
   "cell_type": "code",
   "execution_count": 11,
   "id": "3755e47b-be31-4b3e-921c-d48f3ef62e04",
   "metadata": {},
   "outputs": [],
   "source": [
    "empty_list = []\n",
    "empty_dictionary = {}"
   ]
  },
  {
   "cell_type": "code",
   "execution_count": 13,
   "id": "ba64a500-002a-48a0-b5e5-b2ccdfa15bef",
   "metadata": {},
   "outputs": [],
   "source": [
    "#keys are unique, values can be any data type:boolan, int, float, \n",
    "#sting, lis, dictionary,etc.\n",
    "my_first_dictionary = {\"key\": 1}"
   ]
  },
  {
   "cell_type": "code",
   "execution_count": 15,
   "id": "69a436c5-9c5f-4a20-80aa-c5ac467142c8",
   "metadata": {},
   "outputs": [
    {
     "name": "stdout",
     "output_type": "stream",
     "text": [
      "1\n"
     ]
    }
   ],
   "source": [
    "#if I want an element froma LIST, I use a number index\n",
    "my_list = [1,2,3,4,5,6]\n",
    "print(my_list[0])"
   ]
  },
  {
   "cell_type": "code",
   "execution_count": 22,
   "id": "dd439d9a-af1b-461f-ab32-96999b156b88",
   "metadata": {},
   "outputs": [
    {
     "name": "stdout",
     "output_type": "stream",
     "text": [
      "2\n"
     ]
    }
   ],
   "source": [
    "#if I want a element from KEY\n",
    "my_first_dictionary['key'] = 2\n",
    "print(my_first_dictionary['key'])"
   ]
  },
  {
   "cell_type": "code",
   "execution_count": 18,
   "id": "125e4a4c-eb48-4a7e-ae19-236f698b290f",
   "metadata": {},
   "outputs": [
    {
     "name": "stdout",
     "output_type": "stream",
     "text": [
      "{'key': 2}\n"
     ]
    }
   ],
   "source": [
    "print(my_first_dictionary)"
   ]
  },
  {
   "cell_type": "code",
   "execution_count": 19,
   "id": "0464cc47-b8c7-47fc-b6c4-c3979e7cd872",
   "metadata": {},
   "outputs": [
    {
     "name": "stdout",
     "output_type": "stream",
     "text": [
      "{'key': 4}\n"
     ]
    }
   ],
   "source": [
    "my_first_dictionary['key'] += 2\n",
    "print(my_first_dictionary)"
   ]
  },
  {
   "cell_type": "code",
   "execution_count": 35,
   "id": "10ddf0ab-232c-42a4-ba3e-e4c0be32acc3",
   "metadata": {},
   "outputs": [],
   "source": [
    "team_wins = {'Blue' :0, 'Red' : 0, 'Yellow': 0}"
   ]
  },
  {
   "cell_type": "code",
   "execution_count": 36,
   "id": "9bc90ec5-be12-4dbe-a3a6-424e635aebd5",
   "metadata": {},
   "outputs": [],
   "source": [
    "season_wins = ['Blue', 'Red', 'Yellow', 'Yellow','Blue','Green']"
   ]
  },
  {
   "cell_type": "code",
   "execution_count": 37,
   "id": "10852df0-90c3-4ca0-989f-bfe2fa899c86",
   "metadata": {},
   "outputs": [
    {
     "name": "stdout",
     "output_type": "stream",
     "text": [
      "{'Blue': 2, 'Red': 1, 'Yellow': 2, 'Green': 1}\n"
     ]
    }
   ],
   "source": [
    "#if the team is in the dictionary, add to the team\n",
    "#if the team wasn't registered, add the team\n",
    "for winning_team in season_wins:\n",
    "    if winning_team in team_wins: \n",
    "        team_wins[winning_team] +=1\n",
    "    else:\n",
    "        team_wins[winning_team] =1\n",
    "print(team_wins)"
   ]
  },
  {
   "cell_type": "code",
   "execution_count": 38,
   "id": "97f8926a-c04c-449f-85a9-39aa05ed3988",
   "metadata": {},
   "outputs": [
    {
     "name": "stdout",
     "output_type": "stream",
     "text": [
      "{'Blue': 3, 'Red': 1, 'Yellow': 2, 'Green': 1}\n"
     ]
    }
   ],
   "source": [
    "team_wins['Blue'] += 1\n",
    "print(team_wins)"
   ]
  },
  {
   "cell_type": "code",
   "execution_count": 39,
   "id": "6fe7571e-bb8f-4a6f-aee9-bada0076a29c",
   "metadata": {},
   "outputs": [
    {
     "name": "stdout",
     "output_type": "stream",
     "text": [
      "{'Blue': 3, 'Red': 1, 'Yellow': 2}\n"
     ]
    }
   ],
   "source": [
    "del team_wins['Green']\n",
    "print(team_wins)"
   ]
  },
  {
   "cell_type": "code",
   "execution_count": 40,
   "id": "2d4df240-3459-467e-b625-263d9f8c7eb2",
   "metadata": {},
   "outputs": [
    {
     "name": "stdout",
     "output_type": "stream",
     "text": [
      "5\n",
      "big apple\n",
      "northeast\n"
     ]
    }
   ],
   "source": [
    "#keys left side of :\n",
    "#values right side of :\n",
    "new_york = {'borough': 5,'nickname': 'big apple', 'us_region':'northeast'}\n",
    "for key in new_york:\n",
    "    print(new_york[key])"
   ]
  },
  {
   "cell_type": "code",
   "execution_count": 42,
   "id": "79a899dc-b46a-4f5d-891b-e70fc39431d0",
   "metadata": {},
   "outputs": [],
   "source": [
    "#when it's a dictionary, we use a key\n",
    "#when we print my_dictionary['key'], this returns ths value"
   ]
  },
  {
   "cell_type": "code",
   "execution_count": 44,
   "id": "6a349178-e1be-4d24-9970-289302fccd74",
   "metadata": {},
   "outputs": [
    {
     "data": {
      "text/plain": [
       "['Hello', 'this', 'is', 'a', 'string']"
      ]
     },
     "execution_count": 44,
     "metadata": {},
     "output_type": "execute_result"
    }
   ],
   "source": [
    "my_string = \"Hello this is a string\"\n",
    "my_string.split()"
   ]
  },
  {
   "cell_type": "code",
   "execution_count": 45,
   "id": "ab5e6e46-b394-4d68-a223-6cd8424ed608",
   "metadata": {},
   "outputs": [
    {
     "data": {
      "text/plain": [
       "['23', '45', '465', '232', '45345', '234']"
      ]
     },
     "execution_count": 45,
     "metadata": {},
     "output_type": "execute_result"
    }
   ],
   "source": [
    "a_string_of_nums = \"23/45/465/232/45345/234\"\n",
    "a_string_of_nums.split('/')"
   ]
  },
  {
   "cell_type": "code",
   "execution_count": 48,
   "id": "b1e57822-c76b-49f2-b28b-15f021a5620f",
   "metadata": {},
   "outputs": [
    {
     "name": "stdout",
     "output_type": "stream",
     "text": [
      "11.5\n",
      "22.5\n",
      "232.5\n",
      "116.0\n",
      "22672.5\n",
      "117.0\n"
     ]
    }
   ],
   "source": [
    "# we can use list comprehension to cast each string as int\n",
    "new_list_ints = [int(x) for x in a_string_of_nums.split('/')]\n",
    "for i in new_list_ints:\n",
    "    print(i / 2)"
   ]
  },
  {
   "cell_type": "code",
   "execution_count": 49,
   "id": "7464dbbd-9578-42f7-8391-4bffc30cd368",
   "metadata": {},
   "outputs": [
    {
     "data": {
      "text/plain": [
       "['Hello', 'this', 'is', 'a', 'string']"
      ]
     },
     "execution_count": 49,
     "metadata": {},
     "output_type": "execute_result"
    }
   ],
   "source": [
    "# now that we've split up strings into a list of elements, we need a way to put it back together\n",
    "# to do that, we're going to use the join() method\n",
    "# first, let's store our string as a list of words\n",
    "list_words = my_string.split()\n",
    "list_words"
   ]
  },
  {
   "cell_type": "code",
   "execution_count": 50,
   "id": "7d33350c-171c-403c-973d-f424e457eac3",
   "metadata": {},
   "outputs": [
    {
     "data": {
      "text/plain": [
       "'Hello this is a string'"
      ]
     },
     "execution_count": 50,
     "metadata": {},
     "output_type": "execute_result"
    }
   ],
   "source": [
    "# now we can put it back together\n",
    "reformed_str = \" \".join(list_words)\n",
    "reformed_str"
   ]
  },
  {
   "cell_type": "code",
   "execution_count": 51,
   "id": "e5c73579-1517-467a-894e-0821585a0e17",
   "metadata": {},
   "outputs": [
    {
     "data": {
      "text/plain": [
       "'feature python wonderful a off show to string wonderful A'"
      ]
     },
     "execution_count": 51,
     "metadata": {},
     "output_type": "execute_result"
    }
   ],
   "source": [
    "# this opens up a lot of possibilites\n",
    "# for example, we can reverse the words in a string\n",
    "ex_str = \"A wonderful string to show off a wonderful python feature\"\n",
    "ex_list = ex_str.split()\n",
    "ex_list.reverse()\n",
    "\" \".join(ex_list)"
   ]
  },
  {
   "cell_type": "code",
   "execution_count": 52,
   "id": "80939724-09fa-4bd9-ac35-60b3d9a9514d",
   "metadata": {},
   "outputs": [
    {
     "name": "stdout",
     "output_type": "stream",
     "text": [
      "UK\n",
      "Europe\n",
      "USA\n",
      "North American\n",
      "Taiwan\n",
      "Asia\n",
      "Kenya\n",
      "Africa\n"
     ]
    }
   ],
   "source": [
    "# we can also use for loops with dictionaries\n",
    "countries = {\"UK\": \"Europe\", \"USA\": \"North American\", \"Taiwan\": \"Asia\", \"Kenya\": \"Africa\"}\n",
    "for key in countries: # remember key is simply a variable, you can call it anything you want\n",
    "    print(key)\n",
    "    print(countries[key])"
   ]
  },
  {
   "cell_type": "code",
   "execution_count": 53,
   "id": "9db4af94-c0ff-416f-800c-aa674ed2b23a",
   "metadata": {},
   "outputs": [
    {
     "data": {
      "text/plain": [
       "{'Asia': ['Taiwan', 'Nepal', 'Thailand', 'Japan'],\n",
       " 'Europe': ['UK', 'France', 'Germany', 'Poland'],\n",
       " 'South American': ['Chile', 'Argentina'],\n",
       " 'Africa': ['Kenya', 'Ghana', 'Sudan']}"
      ]
     },
     "execution_count": 53,
     "metadata": {},
     "output_type": "execute_result"
    }
   ],
   "source": [
    "# Dictionaries can be much more than 1:1 key-value relationships\n",
    "# Dictionaries are often used to represent complex, hierarchical data. It follows the same syntax as JSON (see README for \n",
    "# more info on JSON)\n",
    "# so let's have a more complex dictionary\n",
    "countries_categorized = {\"Asia\": [\"Taiwan\", \"Nepal\", \"Thailand\", \"Japan\"], \"Europe\": [\"UK\", \"France\", \"Germany\", \"Poland\"], \"South American\": [\"Chile\", \"Argentina\"], \"Africa\": [\"Kenya\", \"Ghana\", \"Sudan\"]}\n",
    "countries_categorized"
   ]
  },
  {
   "cell_type": "code",
   "execution_count": 54,
   "id": "290a8440-ae8e-4716-9d11-45af58f8b2b3",
   "metadata": {},
   "outputs": [
    {
     "data": {
      "text/plain": [
       "['UK', 'France', 'Germany', 'Poland']"
      ]
     },
     "execution_count": 54,
     "metadata": {},
     "output_type": "execute_result"
    }
   ],
   "source": [
    "# countries_categorized has four keys, and each key has a list value\n",
    "# if we select one of the keys, it will return the associated list value\n",
    "countries_categorized['Europe']"
   ]
  },
  {
   "cell_type": "code",
   "execution_count": 55,
   "id": "dcb35cea-8525-4599-89d7-bcf5adb0d05a",
   "metadata": {},
   "outputs": [
    {
     "data": {
      "text/plain": [
       "'Germany'"
      ]
     },
     "execution_count": 55,
     "metadata": {},
     "output_type": "execute_result"
    }
   ],
   "source": [
    "# and remember if we want a certain element of a list we can use indexing\n",
    "# so if I want the third country in the 'Europe' key, I can select the 'Europe' key, then select the element at index 2 (remember we start counting at zero)\n",
    "countries_categorized['Europe'][2]"
   ]
  },
  {
   "cell_type": "code",
   "execution_count": null,
   "id": "7885423e-3ff8-41f1-93f2-68bbd2e57cc6",
   "metadata": {},
   "outputs": [],
   "source": []
  }
 ],
 "metadata": {
  "kernelspec": {
   "display_name": "Python 3 (ipykernel)",
   "language": "python",
   "name": "python3"
  },
  "language_info": {
   "codemirror_mode": {
    "name": "ipython",
    "version": 3
   },
   "file_extension": ".py",
   "mimetype": "text/x-python",
   "name": "python",
   "nbconvert_exporter": "python",
   "pygments_lexer": "ipython3",
   "version": "3.12.7"
  }
 },
 "nbformat": 4,
 "nbformat_minor": 5
}
