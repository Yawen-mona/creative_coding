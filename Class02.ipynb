{
 "cells": [
  {
   "cell_type": "code",
   "execution_count": null,
   "id": "6b80dd46-a737-4db3-b9cd-6d00d253f885",
   "metadata": {},
   "outputs": [],
   "source": [
    "first_list = [1,2,3]"
   ]
  },
  {
   "cell_type": "code",
   "execution_count": 3,
   "id": "67657ff7-50ef-4ceb-af01-4dfa608576cd",
   "metadata": {},
   "outputs": [
    {
     "name": "stdout",
     "output_type": "stream",
     "text": [
      "[1, 2, 3]\n"
     ]
    }
   ],
   "source": [
    "print(first_list)"
   ]
  },
  {
   "cell_type": "code",
   "execution_count": 4,
   "id": "b271d76b-eee7-46a2-ab4f-936fc84aab6e",
   "metadata": {},
   "outputs": [
    {
     "name": "stdout",
     "output_type": "stream",
     "text": [
      "[1, 8, 5.0]\n"
     ]
    }
   ],
   "source": [
    "math_list = [5-4, 2*4, 10/2]\n",
    "print(math_list)"
   ]
  },
  {
   "cell_type": "code",
   "execution_count": 5,
   "id": "80b360ee-82cc-4b10-b262-337f9fa57665",
   "metadata": {},
   "outputs": [],
   "source": [
    "mixed_list = [True, 5.0, \"Hello\", 1234, [1,2,3]]"
   ]
  },
  {
   "cell_type": "code",
   "execution_count": 6,
   "id": "5a0a72bc-817a-474b-b372-e319077369f3",
   "metadata": {},
   "outputs": [
    {
     "name": "stdout",
     "output_type": "stream",
     "text": [
      "[]\n"
     ]
    }
   ],
   "source": [
    "new_list = []\n",
    "print(new_list)"
   ]
  },
  {
   "cell_type": "code",
   "execution_count": 7,
   "id": "1f7a1844-7cf6-476a-abeb-8d63390d568a",
   "metadata": {},
   "outputs": [
    {
     "data": {
      "text/plain": [
       "3"
      ]
     },
     "execution_count": 7,
     "metadata": {},
     "output_type": "execute_result"
    }
   ],
   "source": [
    "len(math_list)"
   ]
  },
  {
   "cell_type": "code",
   "execution_count": 8,
   "id": "1caf9fec-3923-4d5d-900e-efb80f7526d6",
   "metadata": {},
   "outputs": [
    {
     "data": {
      "text/plain": [
       "'Hello'"
      ]
     },
     "execution_count": 8,
     "metadata": {},
     "output_type": "execute_result"
    }
   ],
   "source": [
    "mixed_list[2]"
   ]
  },
  {
   "cell_type": "code",
   "execution_count": 9,
   "id": "e21bf514-6054-413e-8d81-80a309096d32",
   "metadata": {},
   "outputs": [
    {
     "data": {
      "text/plain": [
       "[5.0, 'Hello', 1234]"
      ]
     },
     "execution_count": 9,
     "metadata": {},
     "output_type": "execute_result"
    }
   ],
   "source": [
    "mixed_list[1:4]"
   ]
  },
  {
   "cell_type": "code",
   "execution_count": 10,
   "id": "14bb789b-c752-487d-9102-d5406dce00ce",
   "metadata": {},
   "outputs": [
    {
     "data": {
      "text/plain": [
       "[5.0, 'Hello', 1234, [1, 2, 3]]"
      ]
     },
     "execution_count": 10,
     "metadata": {},
     "output_type": "execute_result"
    }
   ],
   "source": [
    "mixed_list[1:]"
   ]
  },
  {
   "cell_type": "code",
   "execution_count": 11,
   "id": "a43f59dd-202c-4cd3-ad61-da6552f0b766",
   "metadata": {},
   "outputs": [
    {
     "data": {
      "text/plain": [
       "[True, 5.0, 'Hello']"
      ]
     },
     "execution_count": 11,
     "metadata": {},
     "output_type": "execute_result"
    }
   ],
   "source": [
    "mixed_list[:3]"
   ]
  },
  {
   "cell_type": "code",
   "execution_count": 15,
   "id": "ba337ea1-648d-4712-bdd1-5c872f8a7646",
   "metadata": {},
   "outputs": [
    {
     "data": {
      "text/plain": [
       "[1234, [1, 2, 3]]"
      ]
     },
     "execution_count": 15,
     "metadata": {},
     "output_type": "execute_result"
    }
   ],
   "source": [
    "mixed_list[-2:]"
   ]
  },
  {
   "cell_type": "code",
   "execution_count": 16,
   "id": "94cd5d35-ff16-4728-bbf3-e990ba799cf2",
   "metadata": {},
   "outputs": [],
   "source": [
    "my_string = \"Hello\"\n",
    "my_list = ['H','e','l','l','o']"
   ]
  },
  {
   "cell_type": "code",
   "execution_count": 17,
   "id": "4bb4edf2-965d-4e2a-83ff-5485d3c58668",
   "metadata": {},
   "outputs": [
    {
     "data": {
      "text/plain": [
       "'H'"
      ]
     },
     "execution_count": 17,
     "metadata": {},
     "output_type": "execute_result"
    }
   ],
   "source": [
    "my_string[0]"
   ]
  },
  {
   "cell_type": "code",
   "execution_count": 18,
   "id": "19ec07d4-302e-492d-b867-2c3938f64672",
   "metadata": {},
   "outputs": [
    {
     "data": {
      "text/plain": [
       "'H'"
      ]
     },
     "execution_count": 18,
     "metadata": {},
     "output_type": "execute_result"
    }
   ],
   "source": [
    "my_list[0]"
   ]
  },
  {
   "cell_type": "code",
   "execution_count": 19,
   "id": "000d87ff-870a-4618-b765-19f2609a53a7",
   "metadata": {},
   "outputs": [
    {
     "name": "stdout",
     "output_type": "stream",
     "text": [
      "['H', 'e', 'l', 'l', 'o', 5]\n"
     ]
    }
   ],
   "source": [
    "my_list.append(5)\n",
    "print(my_list)"
   ]
  },
  {
   "cell_type": "code",
   "execution_count": 20,
   "id": "0f4b998f-e9c3-428d-9700-a666036a64c6",
   "metadata": {},
   "outputs": [
    {
     "name": "stdout",
     "output_type": "stream",
     "text": [
      "['H', 'l', 'l', 'o', 5]\n"
     ]
    }
   ],
   "source": [
    "my_list.remove('e')\n",
    "print(my_list)"
   ]
  },
  {
   "cell_type": "code",
   "execution_count": 21,
   "id": "691d5e79-4399-4b9a-b081-ccfd83a074dc",
   "metadata": {},
   "outputs": [
    {
     "name": "stdout",
     "output_type": "stream",
     "text": [
      "[5, 'o', 'l', 'l', 'H']\n"
     ]
    }
   ],
   "source": [
    "my_list.reverse()\n",
    "print(my_list)"
   ]
  },
  {
   "cell_type": "code",
   "execution_count": 22,
   "id": "77acf80c-f03b-4af5-8174-ba4058417599",
   "metadata": {},
   "outputs": [
    {
     "data": {
      "text/plain": [
       "['dogs', 'hippos']"
      ]
     },
     "execution_count": 22,
     "metadata": {},
     "output_type": "execute_result"
    }
   ],
   "source": [
    "animals = ['hippos', 'dogs']\n",
    "sorted(animals)"
   ]
  },
  {
   "cell_type": "code",
   "execution_count": 27,
   "id": "b71e0124-6088-4e71-8071-d9b9ac5f6544",
   "metadata": {},
   "outputs": [],
   "source": [
    "num_list = [4,2,1,4]"
   ]
  },
  {
   "cell_type": "code",
   "execution_count": 28,
   "id": "edb9532a-a31c-49d7-a136-229fd9ab592b",
   "metadata": {},
   "outputs": [
    {
     "data": {
      "text/plain": [
       "4"
      ]
     },
     "execution_count": 28,
     "metadata": {},
     "output_type": "execute_result"
    }
   ],
   "source": [
    "max(num_list)"
   ]
  },
  {
   "cell_type": "code",
   "execution_count": 29,
   "id": "f07e8601-6f0b-4a19-8a67-9ca8b41fe623",
   "metadata": {},
   "outputs": [
    {
     "data": {
      "text/plain": [
       "1"
      ]
     },
     "execution_count": 29,
     "metadata": {},
     "output_type": "execute_result"
    }
   ],
   "source": [
    "min(num_list)"
   ]
  },
  {
   "cell_type": "code",
   "execution_count": 30,
   "id": "76c0236e-06ba-42ff-bf90-f641adc29390",
   "metadata": {},
   "outputs": [],
   "source": [
    "mixed_nums_animals = [3,'dogs', 2, 'cats', 7]"
   ]
  },
  {
   "cell_type": "code",
   "execution_count": 42,
   "id": "357adfd1-eb8d-4937-a64d-c43c7c26eca3",
   "metadata": {},
   "outputs": [
    {
     "name": "stdout",
     "output_type": "stream",
     "text": [
      "7\n"
     ]
    }
   ],
   "source": [
    "nums_only = []\n",
    "for nums in mixed_nums_animals:\n",
    "    if (type(nums) == int):\n",
    "        nums_only.append(nums)\n",
    "\n",
    "print(max(nums_only))"
   ]
  },
  {
   "cell_type": "code",
   "execution_count": 32,
   "id": "ffeaa8c1-5f3b-4b71-b0bf-8cd74666c1e8",
   "metadata": {},
   "outputs": [
    {
     "name": "stdout",
     "output_type": "stream",
     "text": [
      "7\n"
     ]
    }
   ],
   "source": [
    "max_num = max([elem for elem in mixed_nums_animals if type(elem) == int])\n",
    "print(max_num)"
   ]
  },
  {
   "cell_type": "code",
   "execution_count": 46,
   "id": "f43ecc86-30ba-4d9b-b03d-72cc0e2c13cd",
   "metadata": {},
   "outputs": [],
   "source": [
    "numbers_list = [2,3,4,5]"
   ]
  },
  {
   "cell_type": "code",
   "execution_count": 47,
   "id": "36bbc649-3b51-4acc-91c5-bddd38b41163",
   "metadata": {},
   "outputs": [
    {
     "name": "stdout",
     "output_type": "stream",
     "text": [
      "[4, 6, 8, 10]\n"
     ]
    }
   ],
   "source": [
    "list_multiply2 = []\n",
    "\n",
    "for nums in numbers_list:\n",
    "    list_multiply2.append(nums * 2)\n",
    "\n",
    "print(list_multiply2)"
   ]
  },
  {
   "cell_type": "code",
   "execution_count": 48,
   "id": "998c159b-d6e5-4f55-aadd-a679ba5256e9",
   "metadata": {},
   "outputs": [
    {
     "name": "stdout",
     "output_type": "stream",
     "text": [
      "[4, 6, 8, 10]\n"
     ]
    }
   ],
   "source": [
    "one_liners_multiply2 = [num * 2 for num in numbers_list]\n",
    "print(one_liners_multiply2)"
   ]
  },
  {
   "cell_type": "code",
   "execution_count": 49,
   "id": "c2b4b413-2cf3-4e2b-8c2a-321f7d609b1c",
   "metadata": {},
   "outputs": [],
   "source": [
    "colors = ['purples', 'blue', 'green', 'orange']"
   ]
  },
  {
   "cell_type": "code",
   "execution_count": 50,
   "id": "f0fe54c0-7dea-40d8-a784-caf6a98c07a3",
   "metadata": {},
   "outputs": [
    {
     "name": "stdout",
     "output_type": "stream",
     "text": [
      "['PURPLES', 'GREEN', 'ORANGE']\n"
     ]
    }
   ],
   "source": [
    "improved_colors = []\n",
    "for color in colors:\n",
    "    if len(color)>4:\n",
    "        improved_colors.append(color.upper())\n",
    "\n",
    "print(improved_colors)"
   ]
  },
  {
   "cell_type": "code",
   "execution_count": 51,
   "id": "0a076ad2-b7c8-4ae8-bc10-1f030140ea77",
   "metadata": {},
   "outputs": [],
   "source": [
    "one_liner_improved_colors = [ color.upper()for color in colors if len(color)>4]"
   ]
  },
  {
   "cell_type": "code",
   "execution_count": 52,
   "id": "c2780958-425b-4a61-8aba-20bb7660021a",
   "metadata": {},
   "outputs": [
    {
     "name": "stdout",
     "output_type": "stream",
     "text": [
      "['PURPLES', 'GREEN', 'ORANGE']\n"
     ]
    }
   ],
   "source": [
    "print(one_liner_improved_colors)"
   ]
  },
  {
   "cell_type": "code",
   "execution_count": null,
   "id": "a1b6661a-6df5-4d3f-9174-f359d980c3e6",
   "metadata": {},
   "outputs": [],
   "source": []
  }
 ],
 "metadata": {
  "kernelspec": {
   "display_name": "Python 3 (ipykernel)",
   "language": "python",
   "name": "python3"
  },
  "language_info": {
   "codemirror_mode": {
    "name": "ipython",
    "version": 3
   },
   "file_extension": ".py",
   "mimetype": "text/x-python",
   "name": "python",
   "nbconvert_exporter": "python",
   "pygments_lexer": "ipython3",
   "version": "3.12.7"
  }
 },
 "nbformat": 4,
 "nbformat_minor": 5
}
